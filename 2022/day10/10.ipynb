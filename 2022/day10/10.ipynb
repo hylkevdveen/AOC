{
 "cells": [
  {
   "cell_type": "code",
   "execution_count": 2,
   "metadata": {
    "collapsed": true
   },
   "outputs": [],
   "source": [
    "import re\n",
    "import pandas as pd\n",
    "import numpy as np\n",
    "from collections import Counter\n",
    "from copy import deepcopy\n",
    "from pprint import pprint"
   ]
  },
  {
   "cell_type": "code",
   "execution_count": 29,
   "outputs": [
    {
     "name": "stdout",
     "output_type": "stream",
     "text": [
      "11820\n"
     ]
    }
   ],
   "source": [
    "# Part 1\n",
    "\n",
    "with open('input.txt') as f:\n",
    "    signals = f.read().strip().split('\\n')\n",
    "\n",
    "strengths = {20: 0, 60: 0, 100: 0, 140: 0, 180: 0, 220: 0}\n",
    "cycle = 0\n",
    "register = 1\n",
    "\n",
    "while True:\n",
    "    op = signals.pop(0)\n",
    "    if op == 'noop':\n",
    "        cycle += 1\n",
    "        if cycle in strengths:\n",
    "            strengths[cycle] = cycle * register\n",
    "    else:\n",
    "        addx = int(op[5:])\n",
    "        for i in range(2):\n",
    "            cycle += 1\n",
    "            if cycle in strengths:\n",
    "                strengths[cycle] = cycle * register\n",
    "        register += addx\n",
    "    if cycle >= 220:\n",
    "        break\n",
    "\n",
    "print(sum(strengths.values()))"
   ],
   "metadata": {
    "collapsed": false
   }
  },
  {
   "cell_type": "code",
   "execution_count": 28,
   "outputs": [
    {
     "name": "stdout",
     "output_type": "stream",
     "text": [
      "####.###....##.###..###..#..#..##..#..#.\n",
      "#....#..#....#.#..#.#..#.#.#..#..#.#..#.\n",
      "###..#..#....#.###..#..#.##...#..#.####.\n",
      "#....###.....#.#..#.###..#.#..####.#..#.\n",
      "#....#....#..#.#..#.#.#..#.#..#..#.#..#.\n",
      "####.#.....##..###..#..#.#..#.#..#.#..#.\n"
     ]
    }
   ],
   "source": [
    "# Part 2\n",
    "\n",
    "with open('input.txt') as f:\n",
    "    signals = f.read().strip().split('\\n')\n",
    "\n",
    "cycle = 0\n",
    "register = 1\n",
    "pixels = \"\"\n",
    "\n",
    "while True:\n",
    "    op = signals.pop(0)\n",
    "    if op == 'noop':\n",
    "        if abs(register - cycle % 40) <= 1:\n",
    "            pixels += '#'\n",
    "        else:\n",
    "            pixels += '.'\n",
    "        cycle += 1\n",
    "    else:\n",
    "        addx = int(op[5:])\n",
    "        for i in range(2):\n",
    "            if abs(register - cycle % 40) <= 1:\n",
    "                pixels += '#'\n",
    "            else:\n",
    "                pixels += '.'\n",
    "            cycle += 1\n",
    "        register += addx\n",
    "    if cycle >= 240:\n",
    "        break\n",
    "\n",
    "print(pixels[:40])\n",
    "print(pixels[40:80])\n",
    "print(pixels[80:120])\n",
    "print(pixels[120:160])\n",
    "print(pixels[160:200])\n",
    "print(pixels[200:])"
   ],
   "metadata": {
    "collapsed": false
   }
  }
 ],
 "metadata": {
  "kernelspec": {
   "display_name": "Python 3",
   "language": "python",
   "name": "python3"
  },
  "language_info": {
   "codemirror_mode": {
    "name": "ipython",
    "version": 2
   },
   "file_extension": ".py",
   "mimetype": "text/x-python",
   "name": "python",
   "nbconvert_exporter": "python",
   "pygments_lexer": "ipython2",
   "version": "2.7.6"
  }
 },
 "nbformat": 4,
 "nbformat_minor": 0
}

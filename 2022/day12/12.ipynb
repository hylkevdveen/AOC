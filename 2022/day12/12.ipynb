{
 "cells": [
  {
   "cell_type": "code",
   "execution_count": 43,
   "metadata": {
    "collapsed": true
   },
   "outputs": [],
   "source": [
    "import math\n",
    "import re\n",
    "import pandas as pd\n",
    "import numpy as np\n",
    "from collections import Counter\n",
    "from copy import deepcopy\n",
    "from pprint import pprint\n",
    "from fringe import Fringe\n",
    "from state import State\n",
    "import time"
   ]
  },
  {
   "cell_type": "code",
   "execution_count": 44,
   "outputs": [],
   "source": [
    "def generate_possible_moves(puzzle, state, queue, seen):\n",
    "    for x, y in [(-1, 0), (1, 0), (0, -1), (0, 1)]:\n",
    "        if State.X_MIN <= (state.x + x) <= State.X_MAX and \\\n",
    "           State.Y_MIN <= (state.y + y) <= State.Y_MAX and \\\n",
    "           (state.x + x, state.y + y) not in seen and \\\n",
    "           state.can_move_to(puzzle[state.y + y][state.x + x]):\n",
    "            seen.add((state.x + x, state.y + y))\n",
    "            queue.push(State(state.x + x, state.y + y, puzzle[state.y + y][state.x + x], state, state.depth() + 1))\n",
    "    return seen\n",
    "\n",
    "\n",
    "def solver(puzzle, x=0, y=20, verbose=False):\n",
    "    # Initialize queue and puzzle\n",
    "    queue = Fringe(\"FIFO\")\n",
    "    state = State(x, y, 'a', None, 0)\n",
    "    seen = {(x, y), }\n",
    "\n",
    "    start = time.time()\n",
    "\n",
    "    seen = generate_possible_moves(puzzle, state, queue, seen)\n",
    "\n",
    "    # Keep exploring the puzzle until a solution is found or no solution is possible.\n",
    "    while not queue.is_empty():\n",
    "        state = queue.pop()\n",
    "\n",
    "        if state.is_solved():\n",
    "            end = time.time()\n",
    "            if verbose:\n",
    "                print(f\"Solved in {end - start:.2f} seconds!\")\n",
    "                print(state.depth())\n",
    "                queue.print_stats()\n",
    "            return state.depth()\n",
    "\n",
    "        seen = generate_possible_moves(puzzle, state, queue, seen)\n",
    "\n",
    "    if verbose:\n",
    "        print(\"Not solved :(\")\n",
    "        queue.print_stats()\n",
    "\n",
    "    return math.inf\n"
   ],
   "metadata": {
    "collapsed": false
   }
  },
  {
   "cell_type": "code",
   "execution_count": 45,
   "outputs": [
    {
     "name": "stdout",
     "output_type": "stream",
     "text": [
      "Solved in 0.10 seconds!\n",
      "520\n",
      "#### fringe statistics:\n",
      "size:               9\n",
      "maximum size:      49\n",
      "insertions:      6944\n",
      "deletions:       6935\n"
     ]
    },
    {
     "data": {
      "text/plain": "520"
     },
     "execution_count": 45,
     "metadata": {},
     "output_type": "execute_result"
    }
   ],
   "source": [
    "# Part 1\n",
    "\n",
    "queue = Fringe(\"FIFO\")\n",
    "\n",
    "with open('input.txt') as f:\n",
    "    field = [list(line) for line in f.read().strip().split('\\n')]\n",
    "\n",
    "solver(field, verbose=True)"
   ],
   "metadata": {
    "collapsed": false
   }
  },
  {
   "cell_type": "code",
   "execution_count": 47,
   "outputs": [
    {
     "name": "stdout",
     "output_type": "stream",
     "text": [
      "508\n"
     ]
    }
   ],
   "source": [
    "# Part 2\n",
    "\n",
    "with open('input.txt') as f:\n",
    "    field = [list(line) for line in f.read().strip().split('\\n')]\n",
    "\n",
    "min_depth = solver(field)\n",
    "\n",
    "for y, line in enumerate(field):\n",
    "    for x, val in enumerate(line):\n",
    "        if val == 'a':\n",
    "            queue = Fringe(\"FIFO\")\n",
    "            depth = solver(field, x, y)\n",
    "            if depth < min_depth:\n",
    "                min_depth = depth\n",
    "\n",
    "print(min_depth)"
   ],
   "metadata": {
    "collapsed": false
   }
  }
 ],
 "metadata": {
  "kernelspec": {
   "display_name": "Python 3",
   "language": "python",
   "name": "python3"
  },
  "language_info": {
   "codemirror_mode": {
    "name": "ipython",
    "version": 2
   },
   "file_extension": ".py",
   "mimetype": "text/x-python",
   "name": "python",
   "nbconvert_exporter": "python",
   "pygments_lexer": "ipython2",
   "version": "2.7.6"
  }
 },
 "nbformat": 4,
 "nbformat_minor": 0
}

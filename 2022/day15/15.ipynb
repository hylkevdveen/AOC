{
 "cells": [
  {
   "cell_type": "code",
   "execution_count": 1,
   "metadata": {
    "collapsed": true
   },
   "outputs": [],
   "source": [
    "import math\n",
    "import re\n",
    "import pandas as pd\n",
    "import numpy as np\n",
    "from collections import Counter\n",
    "from copy import deepcopy\n",
    "from pprint import pprint"
   ]
  },
  {
   "cell_type": "code",
   "execution_count": 26,
   "outputs": [],
   "source": [
    "class Sensor:\n",
    "    def __init__(self, string):\n",
    "        self.x, self.y, self.beacon_x, self.beacon_y = [int(coord) for coord in re.findall(r'[xy]=(-?\\d+)', string)]\n",
    "        self.manhattan = abs(self.x - self.beacon_x) + abs(self.y - self.beacon_y)\n",
    "\n",
    "    def __str__(self):\n",
    "        return f\"({self.x}, {self.y}): r={self.manhattan}\""
   ],
   "metadata": {
    "collapsed": false
   }
  },
  {
   "cell_type": "code",
   "execution_count": 27,
   "outputs": [],
   "source": [
    "def naive_merge_ranges(ranges, sensors):\n",
    "    # Create sets from the given ranges and merge them\n",
    "    numbers = set()\n",
    "    for r in ranges:\n",
    "        numbers |= set(range(r[0], r[1] + 1))\n",
    "\n",
    "    # Remove beacons\n",
    "    for sensor in sensors:\n",
    "        if sensor.beacon_y == 2_000_000 and sensor.beacon_x in numbers:\n",
    "            numbers.remove(sensor.beacon_x)\n",
    "    # Return the number of covered x coordinates on this line\n",
    "    return len(numbers)"
   ],
   "metadata": {
    "collapsed": false
   }
  },
  {
   "cell_type": "code",
   "execution_count": 29,
   "outputs": [
    {
     "name": "stdout",
     "output_type": "stream",
     "text": [
      "5511201\n"
     ]
    }
   ],
   "source": [
    "# Part 1\n",
    "\n",
    "sensors = []\n",
    "\n",
    "with open('input.txt') as f:\n",
    "    for line in f.read().strip().split('\\n'):\n",
    "        sensors.append(Sensor(line))\n",
    "\n",
    "line_ranges = []\n",
    "for sensor in sensors:\n",
    "    # Sensor does not reach the line of interest\n",
    "    if abs(sensor.y - 2_000_000) > sensor.manhattan:\n",
    "        continue\n",
    "    # Find the range of x coords on the line of interest\n",
    "    traverse_x = sensor.manhattan - abs(sensor.y - 2_000_000)\n",
    "    line_ranges.append((sensor.x - traverse_x, sensor.x + traverse_x))\n",
    "\n",
    "print(naive_merge_ranges(line_ranges, sensors))"
   ],
   "metadata": {
    "collapsed": false
   }
  },
  {
   "cell_type": "code",
   "execution_count": 53,
   "outputs": [],
   "source": [
    "def has_distress_beacon(ranges):\n",
    "    \"\"\"Try to find a gap in the given ranges between 0 and 4 million and return it.\"\"\"\n",
    "    end = 0\n",
    "    for rng in ranges:\n",
    "        # Return the gap if it's found\n",
    "        if rng[0] > end:\n",
    "            return end + 1\n",
    "        if rng[1] > end:\n",
    "            end = rng[1]\n",
    "        # Quit past 4 million\n",
    "        if end > 4_000_000:\n",
    "            return False\n",
    "    # Check if the gap is past the last given range\n",
    "    if end < 4_000_000:\n",
    "        return end + 1\n",
    "    return False"
   ],
   "metadata": {
    "collapsed": false
   }
  },
  {
   "cell_type": "code",
   "execution_count": 54,
   "outputs": [
    {
     "name": "stdout",
     "output_type": "stream",
     "text": [
      "11318723411840\n"
     ]
    }
   ],
   "source": [
    "# Part 2\n",
    "\n",
    "sensors = []\n",
    "\n",
    "with open('input.txt') as f:\n",
    "    for line in f.read().strip().split('\\n'):\n",
    "        sensors.append(Sensor(line))\n",
    "\n",
    "for line in range(4_000_001):\n",
    "    line_ranges = []\n",
    "    for sensor in sensors:\n",
    "        # Sensor does not reach the line of interest\n",
    "        if abs(sensor.y - line) > sensor.manhattan:\n",
    "            continue\n",
    "        # Find the range of x coords on the line of interest\n",
    "        traverse_x = sensor.manhattan - abs(sensor.y - line)\n",
    "        line_ranges.append((sensor.x - traverse_x, sensor.x + traverse_x))\n",
    "    # Find the distress beacon and print its tuning frequency\n",
    "    if beacon := has_distress_beacon(sorted(line_ranges)):\n",
    "        print(beacon * 4_000_000 + line)\n",
    "        break"
   ],
   "metadata": {
    "collapsed": false
   }
  },
  {
   "cell_type": "code",
   "execution_count": null,
   "outputs": [],
   "source": [],
   "metadata": {
    "collapsed": false
   }
  }
 ],
 "metadata": {
  "kernelspec": {
   "display_name": "Python 3",
   "language": "python",
   "name": "python3"
  },
  "language_info": {
   "codemirror_mode": {
    "name": "ipython",
    "version": 2
   },
   "file_extension": ".py",
   "mimetype": "text/x-python",
   "name": "python",
   "nbconvert_exporter": "python",
   "pygments_lexer": "ipython2",
   "version": "2.7.6"
  }
 },
 "nbformat": 4,
 "nbformat_minor": 0
}

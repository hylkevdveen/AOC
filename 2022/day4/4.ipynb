{
 "cells": [
  {
   "cell_type": "code",
   "execution_count": 6,
   "metadata": {
    "collapsed": true
   },
   "outputs": [],
   "source": [
    "import re\n",
    "import pandas as pd\n",
    "import numpy as np\n",
    "from collections import Counter"
   ]
  },
  {
   "cell_type": "code",
   "execution_count": null,
   "outputs": [],
   "source": [
    "# Read input\n",
    "\n",
    "with open('input.txt') as f:\n",
    "    pairs = f.read().strip().split('\\n')"
   ],
   "metadata": {
    "collapsed": false
   }
  },
  {
   "cell_type": "code",
   "execution_count": 22,
   "outputs": [
    {
     "data": {
      "text/plain": "538"
     },
     "execution_count": 22,
     "metadata": {},
     "output_type": "execute_result"
    }
   ],
   "source": [
    "# Part 1\n",
    "\n",
    "def contains(parent, child):\n",
    "    return parent[0] <= child[0] and parent[1] >= child[1]\n",
    "\n",
    "contain_cnt = 0\n",
    "\n",
    "for pair in pairs:\n",
    "    m = re.match(r'(\\d+)-(\\d+),(\\d+)-(\\d+)', pair)\n",
    "    elf1, elf2 = (int(m.group(1)), int(m.group(2))), (int(m.group(3)), int(m.group(4)))\n",
    "    if contains(elf1, elf2) or contains(elf2, elf1):\n",
    "        contain_cnt += 1\n",
    "\n",
    "print(contain_cnt)"
   ],
   "metadata": {
    "collapsed": false
   }
  },
  {
   "cell_type": "code",
   "execution_count": 27,
   "outputs": [
    {
     "name": "stdout",
     "output_type": "stream",
     "text": [
      "792\n"
     ]
    }
   ],
   "source": [
    "# Part 2\n",
    "\n",
    "def overlap(left, right):\n",
    "    return left[0] <= right[0] <= left[1]\n",
    "\n",
    "overlap_cnt = 0\n",
    "\n",
    "for pair in pairs:\n",
    "    m = re.match(r'(\\d+)-(\\d+),(\\d+)-(\\d+)', pair)\n",
    "    elf1, elf2 = (int(m.group(1)), int(m.group(2))), (int(m.group(3)), int(m.group(4)))\n",
    "    if overlap(elf1, elf2) or overlap(elf2, elf1):\n",
    "        overlap_cnt += 1\n",
    "\n",
    "print(overlap_cnt)"
   ],
   "metadata": {
    "collapsed": false
   }
  }
 ],
 "metadata": {
  "kernelspec": {
   "display_name": "Python 3",
   "language": "python",
   "name": "python3"
  },
  "language_info": {
   "codemirror_mode": {
    "name": "ipython",
    "version": 2
   },
   "file_extension": ".py",
   "mimetype": "text/x-python",
   "name": "python",
   "nbconvert_exporter": "python",
   "pygments_lexer": "ipython2",
   "version": "2.7.6"
  }
 },
 "nbformat": 4,
 "nbformat_minor": 0
}

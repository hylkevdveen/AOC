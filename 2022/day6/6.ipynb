{
 "cells": [
  {
   "cell_type": "code",
   "execution_count": 1,
   "metadata": {
    "collapsed": true
   },
   "outputs": [],
   "source": [
    "import re\n",
    "import pandas as pd\n",
    "import numpy as np\n",
    "from collections import Counter"
   ]
  },
  {
   "cell_type": "code",
   "execution_count": 6,
   "outputs": [
    {
     "name": "stdout",
     "output_type": "stream",
     "text": [
      "1779\n"
     ]
    }
   ],
   "source": [
    "# Part 1\n",
    "\n",
    "with open('input.txt') as f:\n",
    "    stream = f.read().strip()\n",
    "\n",
    "start = 0\n",
    "while start < len(stream) - 4:\n",
    "    signal = stream[start:start + 4]\n",
    "    if len(set(signal)) == 4:\n",
    "        print(start + 4)\n",
    "        break\n",
    "    start += 1"
   ],
   "metadata": {
    "collapsed": false
   }
  },
  {
   "cell_type": "code",
   "execution_count": 7,
   "outputs": [
    {
     "name": "stdout",
     "output_type": "stream",
     "text": [
      "2635\n"
     ]
    }
   ],
   "source": [
    "# Part 2\n",
    "\n",
    "with open('input.txt') as f:\n",
    "    stream = f.read().strip()\n",
    "\n",
    "start = 0\n",
    "while start < len(stream) - 14:\n",
    "    signal = stream[start:start + 14]\n",
    "    if len(set(signal)) == 14:\n",
    "        print(start + 14)\n",
    "        break\n",
    "    start += 1"
   ],
   "metadata": {
    "collapsed": false
   }
  }
 ],
 "metadata": {
  "kernelspec": {
   "display_name": "Python 3",
   "language": "python",
   "name": "python3"
  },
  "language_info": {
   "codemirror_mode": {
    "name": "ipython",
    "version": 2
   },
   "file_extension": ".py",
   "mimetype": "text/x-python",
   "name": "python",
   "nbconvert_exporter": "python",
   "pygments_lexer": "ipython2",
   "version": "2.7.6"
  }
 },
 "nbformat": 4,
 "nbformat_minor": 0
}

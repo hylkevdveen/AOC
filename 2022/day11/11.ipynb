{
 "cells": [
  {
   "cell_type": "code",
   "execution_count": 56,
   "metadata": {
    "collapsed": true
   },
   "outputs": [],
   "source": [
    "import re\n",
    "import pandas as pd\n",
    "import numpy as np\n",
    "from collections import Counter\n",
    "from copy import deepcopy\n",
    "from pprint import pprint"
   ]
  },
  {
   "cell_type": "code",
   "execution_count": 76,
   "outputs": [],
   "source": [
    "class Monkey:\n",
    "    def __init__(self, string):\n",
    "        m = re.search(r': ([\\d, ]+)\\s+Operation: new = ([^\\n]+)\\s+[a-zA-Z:\\s]+(\\d+)[a-zA-Z:\\s]+(\\d)[a-zA-Z:\\s]+(\\d)', string)\n",
    "        self.items = eval(f\"[{m.group(1)}]\")\n",
    "        self.operation = compile(m.group(2), \"<string>\", \"eval\")\n",
    "        self.test = int(m.group(3))\n",
    "        self.true = int(m.group(4))\n",
    "        self.false = int(m.group(5))\n",
    "        self.activity = 0\n",
    "\n",
    "    def __lt__(self, other):\n",
    "        return self.activity < other.activity\n",
    "\n",
    "    def __eq__(self, other):\n",
    "        return self.activity == other.activity\n",
    "\n",
    "    def __str__(self):\n",
    "        return f\"{self.activity}\"\n",
    "\n",
    "    def operate(self, old):\n",
    "        return eval(self.operation)\n",
    "\n",
    "    def add_item(self, item):\n",
    "        self.items.append(item)\n",
    "\n",
    "    def inspect1(self, monkeys):\n",
    "        while True:\n",
    "            if len(self.items) == 0:\n",
    "                break\n",
    "            item = self.items.pop(0)\n",
    "            item = self.operate(item)\n",
    "            self.activity += 1\n",
    "            item //= 3\n",
    "            if item % self.test == 0:\n",
    "                monkeys[self.true].add_item(item)\n",
    "            else:\n",
    "                monkeys[self.false].add_item(item)\n",
    "\n",
    "    def inspect2(self, monkeys):\n",
    "        while True:\n",
    "            if len(self.items) == 0:\n",
    "                break\n",
    "            item = self.items.pop(0)\n",
    "            item = self.operate(item)\n",
    "            self.activity += 1\n",
    "            item %= (3 * 17 * 2 * 19 * 11 * 5 * 13 * 7)\n",
    "            if item % self.test == 0:\n",
    "                monkeys[self.true].add_item(item)\n",
    "            else:\n",
    "                monkeys[self.false].add_item(item)"
   ],
   "metadata": {
    "collapsed": false
   }
  },
  {
   "cell_type": "code",
   "execution_count": 69,
   "outputs": [
    {
     "name": "stdout",
     "output_type": "stream",
     "text": [
      "55460\n"
     ]
    }
   ],
   "source": [
    "# Part 1\n",
    "\n",
    "with open('input.txt') as f:\n",
    "    file = f.read().strip().split('\\n\\n')\n",
    "\n",
    "monkeys = {i: Monkey(string) for i, string in enumerate(file)}\n",
    "\n",
    "for rnd in range(20):\n",
    "    for key in range(len(monkeys)):\n",
    "        monkeys[key].inspect1(monkeys)\n",
    "\n",
    "most_active = sorted(monkeys.items(), key=lambda x: x[1], reverse=True)[:2]\n",
    "print(most_active[0][1].activity * most_active[1][1].activity)"
   ],
   "metadata": {
    "collapsed": false
   }
  },
  {
   "cell_type": "code",
   "execution_count": 78,
   "outputs": [
    {
     "name": "stdout",
     "output_type": "stream",
     "text": [
      "15117269860\n"
     ]
    }
   ],
   "source": [
    "# Part 2\n",
    "\n",
    "with open('input.txt') as f:\n",
    "    file = f.read().strip().split('\\n\\n')\n",
    "\n",
    "monkeys = {i: Monkey(string) for i, string in enumerate(file)}\n",
    "\n",
    "for rnd in range(10000):\n",
    "    for key in range(len(monkeys)):\n",
    "        monkeys[key].inspect2(monkeys)\n",
    "\n",
    "most_active = sorted(monkeys.items(), key=lambda x: x[1], reverse=True)[:2]\n",
    "print(most_active[0][1].activity * most_active[1][1].activity)"
   ],
   "metadata": {
    "collapsed": false
   }
  }
 ],
 "metadata": {
  "kernelspec": {
   "display_name": "Python 3",
   "language": "python",
   "name": "python3"
  },
  "language_info": {
   "codemirror_mode": {
    "name": "ipython",
    "version": 2
   },
   "file_extension": ".py",
   "mimetype": "text/x-python",
   "name": "python",
   "nbconvert_exporter": "python",
   "pygments_lexer": "ipython2",
   "version": "2.7.6"
  }
 },
 "nbformat": 4,
 "nbformat_minor": 0
}

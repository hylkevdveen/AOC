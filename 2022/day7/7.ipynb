{
 "cells": [
  {
   "cell_type": "code",
   "execution_count": 36,
   "metadata": {
    "collapsed": true
   },
   "outputs": [],
   "source": [
    "import re\n",
    "import pandas as pd\n",
    "import numpy as np\n",
    "from collections import Counter\n",
    "from copy import deepcopy\n",
    "from pprint import pprint"
   ]
  },
  {
   "cell_type": "code",
   "execution_count": 37,
   "outputs": [],
   "source": [
    "def add_branch(branch, route, tree):\n",
    "    if len(route) == 1:\n",
    "        tree[route[0]][branch] = {}\n",
    "    else:\n",
    "        add_branch(branch, route[1:], tree[route[0]])\n",
    "\n",
    "def add_node(node, route, tree):\n",
    "    if len(route) == 1:\n",
    "        tree[route[0]][node[1]] = int(node[0])\n",
    "    else:\n",
    "        add_node(node, route[1:], tree[route[0]])\n",
    "\n",
    "def execute(cmd, path, tree):\n",
    "    if cmd[0] == '$':\n",
    "        # Change directory\n",
    "        if cmd[1] == 'cd':\n",
    "            if cmd[2] == '..':\n",
    "                path.pop()\n",
    "            else:\n",
    "                path.append(cmd[2])\n",
    "    # Add new-found directory\n",
    "    elif cmd[0] == 'dir':\n",
    "        add_branch(cmd[1], path, tree)\n",
    "    # Add new-found file\n",
    "    else:\n",
    "        add_node(cmd, path, tree)\n",
    "    return path, tree"
   ],
   "metadata": {
    "collapsed": false
   }
  },
  {
   "cell_type": "code",
   "execution_count": 52,
   "outputs": [],
   "source": [
    "def sum_smaller_than_100k(sum_size, tree):\n",
    "    branch_size = 0\n",
    "    for branch in tree:\n",
    "        if type(tree[branch]) == int:\n",
    "            branch_size += tree[branch]\n",
    "        else:\n",
    "            sum_size, sub_branch_size = sum_smaller_than_100k(sum_size, tree[branch])\n",
    "            branch_size += sub_branch_size\n",
    "    if branch_size <= 100_000:\n",
    "        sum_size += branch_size\n",
    "    return sum_size, branch_size"
   ],
   "metadata": {
    "collapsed": false
   }
  },
  {
   "cell_type": "code",
   "execution_count": 54,
   "outputs": [
    {
     "name": "stdout",
     "output_type": "stream",
     "text": [
      "1077191\n"
     ]
    }
   ],
   "source": [
    "# Part 1\n",
    "\n",
    "path = ['']\n",
    "tree = {'': {}}\n",
    "\n",
    "with open('input.txt') as f:\n",
    "    # Skip first cd root command\n",
    "    f.readline()\n",
    "\n",
    "    while True:\n",
    "        cmd = f.readline().strip().split(' ')\n",
    "        if cmd == ['']:\n",
    "            break\n",
    "        path, tree = execute(cmd, path, tree)\n",
    "\n",
    "size, _ = sum_smaller_than_100k(0, tree)\n",
    "print(size)"
   ],
   "metadata": {
    "collapsed": false
   }
  },
  {
   "cell_type": "code",
   "execution_count": 55,
   "outputs": [],
   "source": [
    "def branch_sizes(branches, tree):\n",
    "    branch_size = 0\n",
    "    for branch in tree:\n",
    "        if type(tree[branch]) == int:\n",
    "            branch_size += tree[branch]\n",
    "        else:\n",
    "            sub_branch_size, branches = branch_sizes(branches, tree[branch])\n",
    "            branch_size += sub_branch_size\n",
    "\n",
    "    branches[branch] = branch_size\n",
    "\n",
    "    return branch_size, branches"
   ],
   "metadata": {
    "collapsed": false
   }
  },
  {
   "cell_type": "code",
   "execution_count": 70,
   "outputs": [
    {
     "name": "stdout",
     "output_type": "stream",
     "text": [
      "vpdqnv 5649896\n"
     ]
    }
   ],
   "source": [
    "# Part 1\n",
    "\n",
    "path = ['']\n",
    "tree = {'': {}}\n",
    "\n",
    "with open('input.txt') as f:\n",
    "    # Skip first cd root command\n",
    "    f.readline()\n",
    "\n",
    "    while True:\n",
    "        cmd = f.readline().strip().split(' ')\n",
    "        if cmd == ['']:\n",
    "            break\n",
    "        path, tree = execute(cmd, path, tree)\n",
    "\n",
    "total_size, branches = branch_sizes({}, tree)\n",
    "to_delete = total_size - 40_000_000\n",
    "\n",
    "for branch, size in sorted(branches.items(), key=lambda x: x[1]):\n",
    "    if size > to_delete:\n",
    "        print(branch, size)\n",
    "        break"
   ],
   "metadata": {
    "collapsed": false
   }
  }
 ],
 "metadata": {
  "kernelspec": {
   "display_name": "Python 3",
   "language": "python",
   "name": "python3"
  },
  "language_info": {
   "codemirror_mode": {
    "name": "ipython",
    "version": 2
   },
   "file_extension": ".py",
   "mimetype": "text/x-python",
   "name": "python",
   "nbconvert_exporter": "python",
   "pygments_lexer": "ipython2",
   "version": "2.7.6"
  }
 },
 "nbformat": 4,
 "nbformat_minor": 0
}

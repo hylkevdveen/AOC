{
 "cells": [
  {
   "cell_type": "code",
   "execution_count": 1,
   "metadata": {
    "collapsed": true
   },
   "outputs": [],
   "source": [
    "import pandas as pd\n",
    "import numpy as np\n",
    "from collections import Counter"
   ]
  },
  {
   "cell_type": "code",
   "execution_count": 3,
   "outputs": [],
   "source": [
    "def priority(char):\n",
    "    if char.islower():\n",
    "        return ord(char) - 96\n",
    "    return ord(char) - 38"
   ],
   "metadata": {
    "collapsed": false
   }
  },
  {
   "cell_type": "code",
   "execution_count": null,
   "outputs": [],
   "source": [
    "# Read input\n",
    "\n",
    "with open('input.txt') as f:\n",
    "    rucksacks = f.read().strip().split('\\n')"
   ],
   "metadata": {
    "collapsed": false
   }
  },
  {
   "cell_type": "code",
   "execution_count": 13,
   "outputs": [
    {
     "name": "stdout",
     "output_type": "stream",
     "text": [
      "8072\n"
     ]
    }
   ],
   "source": [
    "# Part 1\n",
    "\n",
    "priorities = 0\n",
    "\n",
    "for rucksack in rucksacks:\n",
    "    intersection = set(rucksack[:len(rucksack) // 2]) & set(rucksack[len(rucksack) // 2:])\n",
    "    priorities += priority(*intersection)\n",
    "\n",
    "print(priorities)"
   ],
   "metadata": {
    "collapsed": false
   }
  },
  {
   "cell_type": "code",
   "execution_count": 12,
   "outputs": [
    {
     "name": "stdout",
     "output_type": "stream",
     "text": [
      "2567\n"
     ]
    }
   ],
   "source": [
    "# Part 2\n",
    "\n",
    "i = 0\n",
    "priorities = 0\n",
    "\n",
    "while i < len(rucksacks):\n",
    "    badge = set(rucksacks[i]) & set(rucksacks[i + 1]) & set(rucksacks[i + 2])\n",
    "    priorities += priority(*badge)\n",
    "    i += 3\n",
    "\n",
    "print(priorities)"
   ],
   "metadata": {
    "collapsed": false
   }
  }
 ],
 "metadata": {
  "kernelspec": {
   "display_name": "Python 3",
   "language": "python",
   "name": "python3"
  },
  "language_info": {
   "codemirror_mode": {
    "name": "ipython",
    "version": 2
   },
   "file_extension": ".py",
   "mimetype": "text/x-python",
   "name": "python",
   "nbconvert_exporter": "python",
   "pygments_lexer": "ipython2",
   "version": "2.7.6"
  }
 },
 "nbformat": 4,
 "nbformat_minor": 0
}

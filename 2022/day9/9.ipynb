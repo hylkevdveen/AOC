{
 "cells": [
  {
   "cell_type": "code",
   "execution_count": 1,
   "metadata": {
    "collapsed": true
   },
   "outputs": [],
   "source": [
    "import re\n",
    "import pandas as pd\n",
    "import numpy as np\n",
    "from collections import Counter\n",
    "from copy import deepcopy\n",
    "from pprint import pprint"
   ]
  },
  {
   "cell_type": "code",
   "execution_count": 33,
   "outputs": [],
   "source": [
    "class Point:\n",
    "    def __init__(self):\n",
    "        self.x = 0\n",
    "        self.y = 0\n",
    "        self.travelled = {(0, 0),}\n",
    "\n",
    "    def __str__(self):\n",
    "        return f\"{self.x} {self.y}\"\n",
    "\n",
    "    def move(self, to: str):\n",
    "        match to:\n",
    "            case 'L':\n",
    "                self.x -= 1\n",
    "            case 'R':\n",
    "                self.x += 1\n",
    "            case 'U':\n",
    "                self.y += 1\n",
    "            case 'D':\n",
    "                self.y -= 1\n",
    "            case 'LU':\n",
    "                self.x -= 1\n",
    "                self.y += 1\n",
    "            case 'LD':\n",
    "                self.x -= 1\n",
    "                self.y -= 1\n",
    "            case 'RU':\n",
    "                self.x += 1\n",
    "                self.y += 1\n",
    "            case 'RD':\n",
    "                self.x += 1\n",
    "                self.y -= 1\n",
    "\n",
    "        self.travelled.add((self.x, self.y))\n",
    "\n",
    "class Knot(Point):\n",
    "    \"\"\"Point which follows another point in front of it.\"\"\"\n",
    "    def __init__(self, head: Point):\n",
    "        super().__init__()\n",
    "        self.head = head\n",
    "\n",
    "    def follow(self):\n",
    "        # Close enough, don't move\n",
    "        if abs(self.head.x - self.x) <= 1 and abs(self.head.y - self.y) <= 1:\n",
    "            return\n",
    "        # Move vertically\n",
    "        if self.x == self.head.x:\n",
    "            if self.y > self.head.y:\n",
    "                self.move('D')\n",
    "            else:\n",
    "                self.move('U')\n",
    "        # Move horizontally\n",
    "        elif self.y == self.head.y:\n",
    "            if self.x > self.head.x:\n",
    "                self.move('L')\n",
    "            else:\n",
    "                self.move('R')\n",
    "        # Move diagonally\n",
    "        else:\n",
    "            if self.x > self.head.x:\n",
    "                mv = 'L'\n",
    "            else:\n",
    "                mv = 'R'\n",
    "            if self.y > self.head.y:\n",
    "                mv += 'D'\n",
    "            else:\n",
    "                mv += 'U'\n",
    "\n",
    "            self.move(mv)\n"
   ],
   "metadata": {
    "collapsed": false
   }
  },
  {
   "cell_type": "code",
   "execution_count": 47,
   "outputs": [
    {
     "name": "stdout",
     "output_type": "stream",
     "text": [
      "6271\n"
     ]
    }
   ],
   "source": [
    "# Part 1\n",
    "\n",
    "with open('input.txt') as f:\n",
    "    commands = [(cmd[0], int(cmd[2:])) for cmd in f.read().strip().split('\\n')]\n",
    "\n",
    "head = Point()\n",
    "tail = Knot(head)\n",
    "\n",
    "for cmd in commands:\n",
    "\n",
    "    for _ in range(cmd[1]):\n",
    "        head.move(cmd[0])\n",
    "        tail.follow()\n",
    "\n",
    "print(len(tail.travelled))"
   ],
   "metadata": {
    "collapsed": false
   }
  },
  {
   "cell_type": "code",
   "execution_count": 61,
   "outputs": [],
   "source": [
    "class Rope:\n",
    "    def __init__(self, length=10):\n",
    "\n",
    "        if length < 2:\n",
    "            print(\"Rope must be at least length 2\")\n",
    "            return\n",
    "\n",
    "        self.head = Point()\n",
    "        self.rope = [self.head]\n",
    "        for knot in range(length - 1):\n",
    "            self.rope.append(Knot(self.rope[knot]))\n",
    "        self.tail = self.rope[1:]\n",
    "        self.end = self.rope[-1]\n",
    "\n",
    "    def __str__(self):\n",
    "        return ', '.join(p.__str__() for p in self.rope)\n",
    "\n",
    "    def move(self, to):\n",
    "        self.head.move(to)\n",
    "        for knot in self.tail:\n",
    "            knot.follow()\n"
   ],
   "metadata": {
    "collapsed": false
   }
  },
  {
   "cell_type": "code",
   "execution_count": 62,
   "outputs": [
    {
     "name": "stdout",
     "output_type": "stream",
     "text": [
      "2458\n"
     ]
    }
   ],
   "source": [
    "# Part 2\n",
    "\n",
    "with open('input.txt') as f:\n",
    "    commands = [(cmd[0], int(cmd[2:])) for cmd in f.read().strip().split('\\n')]\n",
    "\n",
    "rope = Rope()\n",
    "for cmd in commands:\n",
    "\n",
    "    for _ in range(cmd[1]):\n",
    "        rope.move(cmd[0])\n",
    "\n",
    "print(len(rope.end.travelled))"
   ],
   "metadata": {
    "collapsed": false
   }
  }
 ],
 "metadata": {
  "kernelspec": {
   "display_name": "Python 3",
   "language": "python",
   "name": "python3"
  },
  "language_info": {
   "codemirror_mode": {
    "name": "ipython",
    "version": 2
   },
   "file_extension": ".py",
   "mimetype": "text/x-python",
   "name": "python",
   "nbconvert_exporter": "python",
   "pygments_lexer": "ipython2",
   "version": "2.7.6"
  }
 },
 "nbformat": 4,
 "nbformat_minor": 0
}

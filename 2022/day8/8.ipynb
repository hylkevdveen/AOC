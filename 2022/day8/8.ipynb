{
 "cells": [
  {
   "cell_type": "code",
   "execution_count": 1,
   "metadata": {
    "collapsed": true
   },
   "outputs": [],
   "source": [
    "import re\n",
    "import pandas as pd\n",
    "import numpy as np\n",
    "from collections import Counter\n",
    "from copy import deepcopy\n",
    "from pprint import pprint"
   ]
  },
  {
   "cell_type": "code",
   "execution_count": 33,
   "outputs": [
    {
     "name": "stdout",
     "output_type": "stream",
     "text": [
      "1538\n"
     ]
    }
   ],
   "source": [
    "# Part 1\n",
    "\n",
    "def count_visible_trees(trees):\n",
    "    visible = 0\n",
    "    for x, row in enumerate(trees):\n",
    "        #\n",
    "        if x == 0 or x == len(trees) - 1:\n",
    "            visible += len(row)\n",
    "            continue\n",
    "        for y, tree in enumerate(row):\n",
    "            tree = int(tree)\n",
    "            if y == 0 or y == len(row) - 1:\n",
    "                visible += 1\n",
    "                continue\n",
    "            left = [int(d) for d in row[:y]]\n",
    "            if max(left) < tree:\n",
    "                visible += 1\n",
    "                continue\n",
    "            right = [int(d) for d in row[y + 1:]]\n",
    "            if max(right) < tree:\n",
    "                visible += 1\n",
    "                continue\n",
    "            top = [int(r[y]) for r in trees[:x]]\n",
    "            if max(top) < tree:\n",
    "                visible += 1\n",
    "                continue\n",
    "            bottom = [int(r[y]) for r in trees[x + 1:]]\n",
    "            if max(bottom) < tree:\n",
    "                visible += 1\n",
    "                continue\n",
    "\n",
    "    return visible\n",
    "\n",
    "with open('input.txt') as f:\n",
    "    trees = f.read().strip().split('\\n')\n",
    "    print(count_visible_trees(trees))\n"
   ],
   "metadata": {
    "collapsed": false
   }
  },
  {
   "cell_type": "code",
   "execution_count": 11,
   "outputs": [
    {
     "name": "stdout",
     "output_type": "stream",
     "text": [
      "496125\n"
     ]
    }
   ],
   "source": [
    "# Part 2\n",
    "\n",
    "def max_scenic_score(trees):\n",
    "    max_scenic = 0\n",
    "    for x, row in enumerate(trees):\n",
    "        #\n",
    "        if x == 0 or x == len(trees) - 1:\n",
    "            continue\n",
    "        for y, tree in enumerate(row):\n",
    "            tree = int(tree)\n",
    "            if y == 0 or y == len(row) - 1:\n",
    "                continue\n",
    "            left = 0\n",
    "            for i in [int(d) for d in row[:y]][::-1]:\n",
    "                left += 1\n",
    "                if i >= tree:\n",
    "                    break\n",
    "            right = 0\n",
    "            for i in [int(d) for d in row[y + 1:]]:\n",
    "                right += 1\n",
    "                if i >= tree:\n",
    "                    break\n",
    "            top = 0\n",
    "            for i in [int(r[y]) for r in trees[:x]][::-1]:\n",
    "                top += 1\n",
    "                if i >= tree:\n",
    "                    break\n",
    "\n",
    "            bottom = 0\n",
    "            for i in [int(r[y]) for r in trees[x + 1:]]:\n",
    "                bottom += 1\n",
    "                if i >= tree:\n",
    "                    break\n",
    "\n",
    "            if (scenic := left * right * top * bottom) > max_scenic:\n",
    "                max_scenic = scenic\n",
    "    return max_scenic\n",
    "\n",
    "with open('input.txt') as f:\n",
    "    trees = f.read().strip().split('\\n')\n",
    "    print(max_scenic_score(trees))\n"
   ],
   "metadata": {
    "collapsed": false
   }
  }
 ],
 "metadata": {
  "kernelspec": {
   "display_name": "Python 3",
   "language": "python",
   "name": "python3"
  },
  "language_info": {
   "codemirror_mode": {
    "name": "ipython",
    "version": 2
   },
   "file_extension": ".py",
   "mimetype": "text/x-python",
   "name": "python",
   "nbconvert_exporter": "python",
   "pygments_lexer": "ipython2",
   "version": "2.7.6"
  }
 },
 "nbformat": 4,
 "nbformat_minor": 0
}

{
 "cells": [
  {
   "cell_type": "code",
   "execution_count": 1,
   "metadata": {
    "collapsed": true
   },
   "outputs": [],
   "source": [
    "import pandas as pd\n",
    "import numpy as np\n",
    "from collections import Counter"
   ]
  },
  {
   "cell_type": "code",
   "execution_count": 16,
   "outputs": [
    {
     "data": {
      "text/plain": "11475"
     },
     "execution_count": 16,
     "metadata": {},
     "output_type": "execute_result"
    }
   ],
   "source": [
    "# Part 1\n",
    "\n",
    "# Outcome of X,Y,Z (rock, paper, scissors) when played against A,B,C (rock, paper, scissors)\n",
    "scores = {\n",
    "    'A': {'X': 3, 'Y': 6, 'Z': 0},\n",
    "    'B': {'X': 0, 'Y': 3, 'Z': 6},\n",
    "    'C': {'X': 6, 'Y': 0, 'Z': 3}\n",
    "}\n",
    "\n",
    "with open('input.txt') as f:\n",
    "    strat = f.read().strip().split('\\n')\n",
    "\n",
    "total_score = 0\n",
    "\n",
    "for play in strat:\n",
    "    opp, you = play[0], play[2]\n",
    "    total_score += ord(you) - 87 + scores[opp][you]  # Value of X,Y,Z + outcome of the play\n",
    "\n",
    "total_score"
   ],
   "metadata": {
    "collapsed": false
   }
  },
  {
   "cell_type": "code",
   "execution_count": 17,
   "outputs": [
    {
     "data": {
      "text/plain": "16862"
     },
     "execution_count": 17,
     "metadata": {},
     "output_type": "execute_result"
    }
   ],
   "source": [
    "# Part 2\n",
    "\n",
    "# Outcome + value of shape when playing strategies X,Y,Z (losing, drawing, winning) against A,B,C (rock, paper, scissors)\n",
    "scores = {\n",
    "    'A': {'X': 0 + 3, 'Y': 3 + 1, 'Z': 6 + 2},\n",
    "    'B': {'X': 0 + 1, 'Y': 3 + 2, 'Z': 6 + 3},\n",
    "    'C': {'X': 0 + 2, 'Y': 3 + 3, 'Z': 6 + 1}\n",
    "}\n",
    "\n",
    "with open('input.txt') as f:\n",
    "    strat = f.read().strip().split('\\n')\n",
    "\n",
    "total_score = 0\n",
    "\n",
    "for play in strat:\n",
    "    opp, outcome = play[0], play[2]\n",
    "    total_score += scores[opp][outcome]\n",
    "\n",
    "total_score"
   ],
   "metadata": {
    "collapsed": false
   }
  }
 ],
 "metadata": {
  "kernelspec": {
   "display_name": "Python 3",
   "language": "python",
   "name": "python3"
  },
  "language_info": {
   "codemirror_mode": {
    "name": "ipython",
    "version": 2
   },
   "file_extension": ".py",
   "mimetype": "text/x-python",
   "name": "python",
   "nbconvert_exporter": "python",
   "pygments_lexer": "ipython2",
   "version": "2.7.6"
  }
 },
 "nbformat": 4,
 "nbformat_minor": 0
}

{
 "cells": [
  {
   "cell_type": "code",
   "execution_count": 27,
   "outputs": [],
   "source": [
    "import re\n",
    "import pandas as pd\n",
    "import numpy as np\n",
    "from collections import Counter"
   ],
   "metadata": {
    "collapsed": false
   }
  },
  {
   "cell_type": "code",
   "execution_count": 31,
   "outputs": [
    {
     "name": "stdout",
     "output_type": "stream",
     "text": [
      "TDCHVHJTG\n"
     ]
    }
   ],
   "source": [
    "# Part 1\n",
    "\n",
    "with open('input.txt') as f:\n",
    "    # Generate stacks\n",
    "    stacks = {}\n",
    "    for _ in range(8):  # Height of the tallest stack\n",
    "        line = f.readline()\n",
    "        char_idx = 1\n",
    "        stack_num = 1\n",
    "        while char_idx < len(line):\n",
    "            if line[char_idx] != ' ':\n",
    "                stacks[stack_num] = [line[char_idx]] + stacks.get(stack_num, [])\n",
    "            char_idx += 4\n",
    "            stack_num += 1\n",
    "\n",
    "    # Discard stack number line\n",
    "    f.readline()\n",
    "\n",
    "    # Read move commands\n",
    "    commands = f.read().strip().split('\\n')\n",
    "\n",
    "# Execute move commands\n",
    "for command in commands:\n",
    "    m = re.match(r\"move (\\d+) from (\\d+) to (\\d+)\", command)\n",
    "    mv_cnt = int(m.group(1))\n",
    "    mv_from = int(m.group(2))\n",
    "    mv_to = int(m.group(3))\n",
    "    for mv in range(mv_cnt):\n",
    "        crate = stacks[mv_from].pop()\n",
    "        stacks[mv_to].append(crate)\n",
    "\n",
    "# Print the top case of each stack\n",
    "for stack in range(1, 10):\n",
    "    print(stacks[stack].pop(), end='')\n",
    "print()"
   ],
   "metadata": {
    "collapsed": false
   }
  },
  {
   "cell_type": "code",
   "execution_count": 42,
   "outputs": [
    {
     "name": "stdout",
     "output_type": "stream",
     "text": [
      "NGCMPJLHV\n"
     ]
    }
   ],
   "source": [
    "# Part 2\n",
    "\n",
    "with open('input.txt') as f:\n",
    "    # Generate stacks\n",
    "    stacks = {}\n",
    "    for _ in range(8):  # Height of the tallest stack\n",
    "        line = f.readline()\n",
    "        char_idx = 1\n",
    "        stack_num = 1\n",
    "        while char_idx < len(line):\n",
    "            if line[char_idx] != ' ':\n",
    "                stacks[stack_num] = [line[char_idx]] + stacks.get(stack_num, [])\n",
    "            char_idx += 4\n",
    "            stack_num += 1\n",
    "\n",
    "    # Discard stack number line\n",
    "    f.readline()\n",
    "\n",
    "    # Read move commands\n",
    "    commands = f.read().strip().split('\\n')\n",
    "\n",
    "# Execute move commands\n",
    "for command in commands:\n",
    "    m = re.match(r\"move (\\d+) from (\\d+) to (\\d+)\", command)\n",
    "    mv_cnt = int(m.group(1))\n",
    "    mv_from = int(m.group(2))\n",
    "    mv_to = int(m.group(3))\n",
    "    stacks[mv_to] += stacks[mv_from][-mv_cnt:]\n",
    "    stacks[mv_from] = stacks[mv_from][:-mv_cnt]\n",
    "\n",
    "# Print the top case of each stack\n",
    "for stack in range(1, 10):\n",
    "    print(stacks[stack].pop(), end='')\n",
    "print()"
   ],
   "metadata": {
    "collapsed": false
   }
  }
 ],
 "metadata": {
  "kernelspec": {
   "display_name": "Python 3",
   "language": "python",
   "name": "python3"
  },
  "language_info": {
   "codemirror_mode": {
    "name": "ipython",
    "version": 2
   },
   "file_extension": ".py",
   "mimetype": "text/x-python",
   "name": "python",
   "nbconvert_exporter": "python",
   "pygments_lexer": "ipython2",
   "version": "2.7.6"
  }
 },
 "nbformat": 4,
 "nbformat_minor": 0
}

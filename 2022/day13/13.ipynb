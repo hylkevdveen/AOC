{
 "cells": [
  {
   "cell_type": "code",
   "execution_count": 70,
   "metadata": {
    "collapsed": true
   },
   "outputs": [],
   "source": [
    "import math\n",
    "import re\n",
    "import pandas as pd\n",
    "import numpy as np\n",
    "from collections import Counter\n",
    "from copy import deepcopy\n",
    "from pprint import pprint"
   ]
  },
  {
   "cell_type": "code",
   "execution_count": 71,
   "outputs": [
    {
     "name": "stdout",
     "output_type": "stream",
     "text": [
      "5503\n"
     ]
    }
   ],
   "source": [
    "# Part 1\n",
    "\n",
    "def is_sorted(left, right):\n",
    "    \"\"\"\"\"\"\n",
    "    length = max(len(left), len(right))\n",
    "    for i in range(length):\n",
    "        # Return if the end of one of the lists has been reached\n",
    "        if i == len(left):\n",
    "            return True\n",
    "        if i == len(right):\n",
    "            return False\n",
    "        # Compare ints\n",
    "        if type(left[i]) == int and type(right[i]) == int:\n",
    "            if left[i] == right[i]:\n",
    "                continue\n",
    "            return left[i] < right[i]\n",
    "        # Wrap integers in a list\n",
    "        if type(left[i]) == int:\n",
    "            lefty = [left[i]]\n",
    "        else:\n",
    "            lefty = left[i]\n",
    "        if type(right[i]) == int:\n",
    "            righty = [right[i]]\n",
    "        else:\n",
    "            righty = right[i]\n",
    "        # Compare lists\n",
    "        sort = is_sorted(lefty, righty)\n",
    "        if type(sort) == bool:\n",
    "            return sort\n",
    "\n",
    "    return None\n",
    "\n",
    "\n",
    "with open('input.txt') as f:\n",
    "    pairs = [pair.split('\\n') for pair in f.read().strip().split('\\n\\n')]\n",
    "\n",
    "indices = 0\n",
    "\n",
    "for idx, pair in enumerate(pairs):\n",
    "    if is_sorted(eval(pair[0]), eval(pair[1])):\n",
    "        indices += idx + 1\n",
    "\n",
    "print(indices)"
   ],
   "metadata": {
    "collapsed": false
   }
  },
  {
   "cell_type": "code",
   "execution_count": 72,
   "outputs": [],
   "source": [
    "class Sun:\n",
    "    def __init__(self, string):\n",
    "        self.moon = eval(string)\n",
    "\n",
    "    def __lt__(self, other):\n",
    "        outcome = is_sorted(self.moon, other.moon)\n",
    "        if type(outcome) == bool:\n",
    "            return outcome\n",
    "        return False\n",
    "\n",
    "    def __str__(self):\n",
    "        return str(self.moon)"
   ],
   "metadata": {
    "collapsed": false
   }
  },
  {
   "cell_type": "code",
   "execution_count": 73,
   "outputs": [
    {
     "name": "stdout",
     "output_type": "stream",
     "text": [
      "20952\n"
     ]
    }
   ],
   "source": [
    "# Part 2\n",
    "\n",
    "with open('input.txt') as f:\n",
    "    suns = [Sun(lst) for lst in f.read().strip().split('\\n') if lst != '']\n",
    "\n",
    "suns += [Sun(\"[[2]]\"), Sun(\"[[6]]\")]\n",
    "\n",
    "suns = sorted(suns)\n",
    "dividers = []\n",
    "for idx, sun in enumerate(suns):\n",
    "    if sun.moon == [[2]] or sun.moon == [[6]]:\n",
    "        dividers.append(idx + 1)\n",
    "\n",
    "print(math.prod(dividers))"
   ],
   "metadata": {
    "collapsed": false
   }
  }
 ],
 "metadata": {
  "kernelspec": {
   "display_name": "Python 3",
   "language": "python",
   "name": "python3"
  },
  "language_info": {
   "codemirror_mode": {
    "name": "ipython",
    "version": 2
   },
   "file_extension": ".py",
   "mimetype": "text/x-python",
   "name": "python",
   "nbconvert_exporter": "python",
   "pygments_lexer": "ipython2",
   "version": "2.7.6"
  }
 },
 "nbformat": 4,
 "nbformat_minor": 0
}

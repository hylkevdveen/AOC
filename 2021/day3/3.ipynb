{
 "cells": [
  {
   "cell_type": "code",
   "execution_count": 13,
   "metadata": {
    "collapsed": true
   },
   "outputs": [],
   "source": [
    "import pandas as pd\n",
    "import numpy as np\n",
    "from collections import Counter\n"
   ]
  },
  {
   "cell_type": "code",
   "execution_count": 17,
   "outputs": [
    {
     "name": "stdout",
     "output_type": "stream",
     "text": [
      "1000\n",
      "12\n"
     ]
    }
   ],
   "source": [
    "# Part 1\n",
    "\n",
    "with open('input.txt') as f:\n",
    "    bits = f.read().strip().split('\\n')\n",
    "    bits_lst = np.matrix([list(num) for num in bits])\n",
    "\n",
    "print(len(bits_lst))\n",
    "print(len(bits_lst.transpose()))"
   ],
   "metadata": {
    "collapsed": false
   }
  },
  {
   "cell_type": "code",
   "execution_count": 18,
   "outputs": [
    {
     "ename": "TypeError",
     "evalue": "unhashable type: 'matrix'",
     "output_type": "error",
     "traceback": [
      "\u001B[0;31m---------------------------------------------------------------------------\u001B[0m",
      "\u001B[0;31mTypeError\u001B[0m                                 Traceback (most recent call last)",
      "Cell \u001B[0;32mIn [18], line 1\u001B[0m\n\u001B[0;32m----> 1\u001B[0m \u001B[38;5;28mprint\u001B[39m(\u001B[43mCounter\u001B[49m\u001B[43m(\u001B[49m\u001B[43mbits_lst\u001B[49m\u001B[43m[\u001B[49m\u001B[38;5;241;43m0\u001B[39;49m\u001B[43m]\u001B[49m\u001B[43m)\u001B[49m)\n",
      "File \u001B[0;32m~/.pyenv/versions/3.10.7/lib/python3.10/collections/__init__.py:577\u001B[0m, in \u001B[0;36mCounter.__init__\u001B[0;34m(self, iterable, **kwds)\u001B[0m\n\u001B[1;32m    566\u001B[0m \u001B[38;5;124;03m'''Create a new, empty Counter object.  And if given, count elements\u001B[39;00m\n\u001B[1;32m    567\u001B[0m \u001B[38;5;124;03mfrom an input iterable.  Or, initialize the count from another mapping\u001B[39;00m\n\u001B[1;32m    568\u001B[0m \u001B[38;5;124;03mof elements to their counts.\u001B[39;00m\n\u001B[0;32m   (...)\u001B[0m\n\u001B[1;32m    574\u001B[0m \n\u001B[1;32m    575\u001B[0m \u001B[38;5;124;03m'''\u001B[39;00m\n\u001B[1;32m    576\u001B[0m \u001B[38;5;28msuper\u001B[39m()\u001B[38;5;241m.\u001B[39m\u001B[38;5;21m__init__\u001B[39m()\n\u001B[0;32m--> 577\u001B[0m \u001B[38;5;28;43mself\u001B[39;49m\u001B[38;5;241;43m.\u001B[39;49m\u001B[43mupdate\u001B[49m\u001B[43m(\u001B[49m\u001B[43miterable\u001B[49m\u001B[43m,\u001B[49m\u001B[43m \u001B[49m\u001B[38;5;241;43m*\u001B[39;49m\u001B[38;5;241;43m*\u001B[39;49m\u001B[43mkwds\u001B[49m\u001B[43m)\u001B[49m\n",
      "File \u001B[0;32m~/.pyenv/versions/3.10.7/lib/python3.10/collections/__init__.py:670\u001B[0m, in \u001B[0;36mCounter.update\u001B[0;34m(self, iterable, **kwds)\u001B[0m\n\u001B[1;32m    668\u001B[0m             \u001B[38;5;28msuper\u001B[39m()\u001B[38;5;241m.\u001B[39mupdate(iterable)\n\u001B[1;32m    669\u001B[0m     \u001B[38;5;28;01melse\u001B[39;00m:\n\u001B[0;32m--> 670\u001B[0m         \u001B[43m_count_elements\u001B[49m\u001B[43m(\u001B[49m\u001B[38;5;28;43mself\u001B[39;49m\u001B[43m,\u001B[49m\u001B[43m \u001B[49m\u001B[43miterable\u001B[49m\u001B[43m)\u001B[49m\n\u001B[1;32m    671\u001B[0m \u001B[38;5;28;01mif\u001B[39;00m kwds:\n\u001B[1;32m    672\u001B[0m     \u001B[38;5;28mself\u001B[39m\u001B[38;5;241m.\u001B[39mupdate(kwds)\n",
      "\u001B[0;31mTypeError\u001B[0m: unhashable type: 'matrix'"
     ]
    }
   ],
   "source": [
    "print(Counter(bits_lst[0]))"
   ],
   "metadata": {
    "collapsed": false
   }
  }
 ],
 "metadata": {
  "kernelspec": {
   "display_name": "Python 3",
   "language": "python",
   "name": "python3"
  },
  "language_info": {
   "codemirror_mode": {
    "name": "ipython",
    "version": 2
   },
   "file_extension": ".py",
   "mimetype": "text/x-python",
   "name": "python",
   "nbconvert_exporter": "python",
   "pygments_lexer": "ipython2",
   "version": "2.7.6"
  }
 },
 "nbformat": 4,
 "nbformat_minor": 0
}

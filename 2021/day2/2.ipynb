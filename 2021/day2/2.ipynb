{
 "cells": [
  {
   "cell_type": "code",
   "execution_count": 1,
   "metadata": {
    "collapsed": true
   },
   "outputs": [],
   "source": [
    "import pandas as pd\n",
    "import numpy as np\n"
   ]
  },
  {
   "cell_type": "code",
   "execution_count": 10,
   "outputs": [
    {
     "data": {
      "text/plain": "1484118"
     },
     "execution_count": 10,
     "metadata": {},
     "output_type": "execute_result"
    }
   ],
   "source": [
    "# Part 1\n",
    "\n",
    "horizontal = 0\n",
    "vertical = 0\n",
    "\n",
    "with open('input.txt') as f:\n",
    "    for line in f.readlines():\n",
    "        direction, distance = line.strip().split(' ')\n",
    "        match direction:\n",
    "            case \"forward\":\n",
    "                horizontal += int(distance)\n",
    "            case \"down\":\n",
    "                vertical += int(distance)\n",
    "            case \"up\":\n",
    "                vertical -= int(distance)\n",
    "\n",
    "horizontal * vertical"
   ],
   "metadata": {
    "collapsed": false
   }
  },
  {
   "cell_type": "code",
   "execution_count": 11,
   "outputs": [
    {
     "data": {
      "text/plain": "1463827010"
     },
     "execution_count": 11,
     "metadata": {},
     "output_type": "execute_result"
    }
   ],
   "source": [
    "# Part 2\n",
    "\n",
    "horizontal = 0\n",
    "vertical = 0\n",
    "aim = 0\n",
    "\n",
    "with open('input.txt') as f:\n",
    "    for line in f.readlines():\n",
    "        direction, distance = line.strip().split(' ')\n",
    "        match direction:\n",
    "            case \"forward\":\n",
    "                horizontal += (distance := int(distance))\n",
    "                vertical += distance * aim\n",
    "            case \"down\":\n",
    "                aim += int(distance)\n",
    "            case \"up\":\n",
    "                aim -= int(distance)\n",
    "\n",
    "horizontal * vertical"
   ],
   "metadata": {
    "collapsed": false
   }
  }
 ],
 "metadata": {
  "kernelspec": {
   "display_name": "Python 3",
   "language": "python",
   "name": "python3"
  },
  "language_info": {
   "codemirror_mode": {
    "name": "ipython",
    "version": 2
   },
   "file_extension": ".py",
   "mimetype": "text/x-python",
   "name": "python",
   "nbconvert_exporter": "python",
   "pygments_lexer": "ipython2",
   "version": "2.7.6"
  }
 },
 "nbformat": 4,
 "nbformat_minor": 0
}

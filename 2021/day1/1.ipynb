{
 "cells": [
  {
   "cell_type": "code",
   "execution_count": 1,
   "metadata": {
    "collapsed": true
   },
   "outputs": [],
   "source": [
    "import pandas as pd\n",
    "import numpy as np\n"
   ]
  },
  {
   "cell_type": "code",
   "execution_count": 10,
   "outputs": [
    {
     "data": {
      "text/plain": "1581"
     },
     "execution_count": 10,
     "metadata": {},
     "output_type": "execute_result"
    }
   ],
   "source": [
    "# Part 1\n",
    "\n",
    "res = 0\n",
    "\n",
    "with open('input.txt') as f:\n",
    "    num = int(f.readline())\n",
    "    for line in f.readlines():\n",
    "        if num < (next := int(line)):\n",
    "            res += 1\n",
    "        num = next\n",
    "res"
   ],
   "metadata": {
    "collapsed": false
   }
  },
  {
   "cell_type": "code",
   "execution_count": 13,
   "outputs": [
    {
     "data": {
      "text/plain": "1618"
     },
     "execution_count": 13,
     "metadata": {},
     "output_type": "execute_result"
    }
   ],
   "source": [
    "# Part 2\n",
    "\n",
    "res = 0\n",
    "\n",
    "with open('input.txt') as f:\n",
    "    i = int(f.readline())\n",
    "    j = int(f.readline())\n",
    "    k = int(f.readline())\n",
    "    tot = i + j + k\n",
    "    for line in f.readlines():\n",
    "        i = j\n",
    "        j = k\n",
    "        k = int(line)\n",
    "        if tot < (next := (i + j + k)):\n",
    "            res += 1\n",
    "        tot = next\n",
    "res"
   ],
   "metadata": {
    "collapsed": false
   }
  }
 ],
 "metadata": {
  "kernelspec": {
   "display_name": "Python 3",
   "language": "python",
   "name": "python3"
  },
  "language_info": {
   "codemirror_mode": {
    "name": "ipython",
    "version": 2
   },
   "file_extension": ".py",
   "mimetype": "text/x-python",
   "name": "python",
   "nbconvert_exporter": "python",
   "pygments_lexer": "ipython2",
   "version": "2.7.6"
  }
 },
 "nbformat": 4,
 "nbformat_minor": 0
}
